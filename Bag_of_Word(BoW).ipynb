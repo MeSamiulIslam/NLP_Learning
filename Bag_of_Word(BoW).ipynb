{
  "nbformat": 4,
  "nbformat_minor": 0,
  "metadata": {
    "colab": {
      "provenance": [],
      "authorship_tag": "ABX9TyNAaMnv7Ws2tPY+ok2gOTmR",
      "include_colab_link": true
    },
    "kernelspec": {
      "name": "python3",
      "display_name": "Python 3"
    },
    "language_info": {
      "name": "python"
    }
  },
  "cells": [
    {
      "cell_type": "markdown",
      "metadata": {
        "id": "view-in-github",
        "colab_type": "text"
      },
      "source": [
        "<a href=\"https://colab.research.google.com/github/MeSamiulIslam/NLP_Learning/blob/main/Bag_of_Word(BoW).ipynb\" target=\"_parent\"><img src=\"https://colab.research.google.com/assets/colab-badge.svg\" alt=\"Open In Colab\"/></a>"
      ]
    },
    {
      "cell_type": "code",
      "execution_count": 1,
      "metadata": {
        "id": "W5I9HhycDHmw"
      },
      "outputs": [],
      "source": [
        "# Import the Counter class from the collections module\n",
        "from collections import Counter"
      ]
    },
    {
      "cell_type": "code",
      "source": [
        "\n",
        "# Define two text strings for comparison\n",
        "text_1 = \"nice car nice\"\n",
        "text_2 = \"car\""
      ],
      "metadata": {
        "id": "mdSWFTkzDRTf"
      },
      "execution_count": 2,
      "outputs": []
    },
    {
      "cell_type": "code",
      "source": [
        "# Generate a merged text by concatenating text_1 and text_2 with a space in between\n",
        "text_merged = text_1 + \" \" + text_2\n",
        "\n",
        "# Display the merged text\n",
        "text_merged"
      ],
      "metadata": {
        "colab": {
          "base_uri": "https://localhost:8080/",
          "height": 38
        },
        "id": "ELqY1QidDVJ9",
        "outputId": "79249ee0-67e4-4b9c-fa50-469b780f6ba9"
      },
      "execution_count": 3,
      "outputs": [
        {
          "output_type": "execute_result",
          "data": {
            "text/plain": [
              "'nice car nice car'"
            ],
            "application/vnd.google.colaboratory.intrinsic+json": {
              "type": "string"
            }
          },
          "metadata": {},
          "execution_count": 3
        }
      ]
    },
    {
      "cell_type": "code",
      "source": [
        "\n",
        "# Split the text_merged into words and create a word frequency count (Bag of Words) for text_1\n",
        "vec_1 = Counter(text_1.split())\n",
        "\n",
        "# Split the text_2 into words and create a word frequency count (Bag of Words) for text_2\n",
        "vec_2 = Counter(text_2.split())\n",
        "\n",
        "# Split the text_merged into words and create a word frequency count (Bag of Words) for the merged text\n",
        "vec_merged = Counter(text_merged.split())"
      ],
      "metadata": {
        "id": "4_T50xMbDa9k"
      },
      "execution_count": 4,
      "outputs": []
    },
    {
      "cell_type": "code",
      "source": [
        "# Print the lengths of the three Bag of Words representations\n",
        "print(\"Length of vec_1:\" + str(len(vec_1)) + \"\\nLength of vec_2:\" + str(len(vec_2))\n",
        "      + \"\\nLength of vec_merged:\" + str(len(vec_merged)))"
      ],
      "metadata": {
        "colab": {
          "base_uri": "https://localhost:8080/"
        },
        "id": "67aBSFZCDej0",
        "outputId": "d7dcfe30-1eb1-4fd6-b5f9-704332312390"
      },
      "execution_count": 5,
      "outputs": [
        {
          "output_type": "stream",
          "name": "stdout",
          "text": [
            "Length of vec_1:2\n",
            "Length of vec_2:1\n",
            "Length of vec_merged:2\n"
          ]
        }
      ]
    },
    {
      "cell_type": "code",
      "source": [
        "# Check if the sum of the lengths of vec_1 and vec_2 equals the length of vec_merged\n",
        "if (len(vec_1) + len(vec_2) == len(vec_merged)):\n",
        "    print(\"No Similarity!\")\n",
        "# Check if the lengths of vec_1, vec_2, and vec_merged are all the same\n",
        "elif (len(vec_1) == len(vec_2) == len(vec_merged)):\n",
        "    print(\"Fully Similar\")\n",
        "# If none of the above conditions are met, it means the texts are partially similar\n",
        "else:\n",
        "    print(\"Partially Similar\")"
      ],
      "metadata": {
        "colab": {
          "base_uri": "https://localhost:8080/"
        },
        "id": "4VkOcRySDhj9",
        "outputId": "410c0de8-20a0-4588-8d1c-692ee913744a"
      },
      "execution_count": 6,
      "outputs": [
        {
          "output_type": "stream",
          "name": "stdout",
          "text": [
            "Partially Similar\n"
          ]
        }
      ]
    },
    {
      "cell_type": "code",
      "source": [],
      "metadata": {
        "id": "R-eG9vTNDjWI"
      },
      "execution_count": null,
      "outputs": []
    }
  ]
}